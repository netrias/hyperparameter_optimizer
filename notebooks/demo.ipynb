{
 "cells": [
  {
   "cell_type": "code",
   "execution_count": 53,
   "metadata": {},
   "outputs": [
    {
     "name": "stdout",
     "output_type": "stream",
     "text": [
      "The autoreload extension is already loaded. To reload it, use:\n",
      "  %reload_ext autoreload\n"
     ]
    }
   ],
   "source": [
    "import sys\n",
    "sys.path.append('../src')\n",
    "\n",
    "import numpy as np\n",
    "import pandas as pd\n",
    "from sklearn.model_selection import train_test_split\n",
    "from sklearn.datasets import load_iris\n",
    "from models.linear_models import LogisticModel\n",
    "from models.ensemble_models import RandomForestModel\n",
    "from optimizers.grid_search import GridSearchOptimizer\n",
    "from optimizers.random_search import RandomSearchOptimizer\n",
    "from optimizers.bayesian import BayesSearchOptimizer, HyperoptOptimizer\n",
    "from hyperopt import hp, fmin, tpe, Trials, STATUS_OK\n",
    "from tensorflow.keras.utils import to_categorical\n",
    "from sklearn.preprocessing import LabelEncoder\n",
    "from optimizers.darts_en import DARTSOptimizer\n",
    "from hyperopt.pyll.base import scope\n",
    "from utils.data_loader import load_data\n",
    "\n",
    "%load_ext autoreload\n",
    "%autoreload 2\n",
    "\n",
    "import warnings\n",
    "warnings.filterwarnings('ignore')"
   ]
  },
  {
   "cell_type": "markdown",
   "metadata": {},
   "source": [
    "## Setup"
   ]
  },
  {
   "cell_type": "code",
   "execution_count": 2,
   "metadata": {},
   "outputs": [],
   "source": [
    "def optimize_model(model, parameters, X_train, y_train):\n",
    "    optimizer = GridSearchOptimizer(model, parameters)\n",
    "    best_params = optimizer.optimize(X_train, y_train)\n",
    "    \n",
    "    results = optimizer.cv_results_\n",
    "\n",
    "    best_score = max(results['mean_test_score'])\n",
    "    \n",
    "    worst_index = results['mean_test_score'].argmin()\n",
    "    worst_score = results['mean_test_score'][worst_index]\n",
    "    worst_params = {key: results['param_' + key][worst_index] for key in parameters}\n",
    "    \n",
    "    return best_params, best_score, worst_params, worst_score"
   ]
  },
  {
   "cell_type": "code",
   "execution_count": 3,
   "metadata": {},
   "outputs": [],
   "source": [
    "data = pd.read_csv('/Users/christopherpuglisi/Library/CloudStorage/GoogleDrive-cpuglisi@netrias.com/Shared drives/DTRA_CARES/data/CARES/data/protein_exp_normalized_cleaned_labeled_cp_12222023_v2.csv', comment='#', low_memory=False, index_col=0)"
   ]
  },
  {
   "cell_type": "code",
   "execution_count": 4,
   "metadata": {},
   "outputs": [],
   "source": [
    "feature = list(data.columns)[:-3]\n",
    "target = ['Threat']"
   ]
  },
  {
   "cell_type": "code",
   "execution_count": 5,
   "metadata": {},
   "outputs": [],
   "source": [
    "X_train, X_test, y_train, y_test = train_test_split(data[feature], data[target], test_size=0.2, random_state=0)"
   ]
  },
  {
   "cell_type": "code",
   "execution_count": 6,
   "metadata": {},
   "outputs": [],
   "source": [
    "logistic_model = LogisticModel()\n",
    "rf_model = RandomForestModel()"
   ]
  },
  {
   "cell_type": "markdown",
   "metadata": {},
   "source": [
    "## Grid Search"
   ]
  },
  {
   "cell_type": "code",
   "execution_count": 85,
   "metadata": {},
   "outputs": [],
   "source": [
    "logistic_params = {'C': [0.1, 1, 10], 'max_iter': [500, 1000], 'penalty': ['none','l1','l2']}\n",
    "rf_params = {'n_estimators': [50, 250, 500], 'max_depth': [50, 250, 500]}"
   ]
  },
  {
   "cell_type": "code",
   "execution_count": 86,
   "metadata": {},
   "outputs": [
    {
     "name": "stdout",
     "output_type": "stream",
     "text": [
      "Best parameters for Logistic Regression: {'C': 0.1, 'max_iter': 500, 'penalty': 'l2'}\n",
      "Best score for Logistic Regression: 0.9846153846153847\n"
     ]
    }
   ],
   "source": [
    "best_params_logistic, best_score_logistic, worst_params_logistic, worst_score_logistic = optimize_model(logistic_model, logistic_params, X_train, y_train)\n",
    "print(\"Best parameters for Logistic Regression:\", best_params_logistic)\n",
    "print(\"Best score for Logistic Regression:\", best_score_logistic)"
   ]
  },
  {
   "cell_type": "code",
   "execution_count": 87,
   "metadata": {},
   "outputs": [
    {
     "name": "stdout",
     "output_type": "stream",
     "text": [
      "Best parameters for Random Forest: {'max_depth': 50, 'n_estimators': 250}\n",
      "Best score for Random Forest: 0.9342383107088988\n",
      "Worst parameters for Random Forest: {'n_estimators': 500, 'max_depth': 500}\n",
      "Worst score for Random Forest: 0.9225490196078431\n"
     ]
    }
   ],
   "source": [
    "best_params_rf, best_score_rf, worst_params_rf, worst_score_rf = optimize_model(rf_model, rf_params, X_train, y_train)\n",
    "print(\"Best parameters for Random Forest:\", best_params_rf)\n",
    "print(\"Best score for Random Forest:\", best_score_rf)\n",
    "print(\"Worst parameters for Random Forest:\", worst_params_rf)\n",
    "print(\"Worst score for Random Forest:\", worst_score_rf)"
   ]
  },
  {
   "cell_type": "markdown",
   "metadata": {},
   "source": [
    "## Bayesian"
   ]
  },
  {
   "cell_type": "code",
   "execution_count": 88,
   "metadata": {},
   "outputs": [
    {
     "name": "stdout",
     "output_type": "stream",
     "text": [
      "Best Parameters: OrderedDict([('max_depth', 10), ('n_estimators', 100)])\n",
      "Best Score: 0.9419306184012065\n"
     ]
    }
   ],
   "source": [
    "rf_model = RandomForestModel()\n",
    "rf_params = {'n_estimators': [50, 100, 200], 'max_depth': [10, 50, 100]}\n",
    "\n",
    "# Bayes Optimization\n",
    "bayes_optimizer = BayesSearchOptimizer(rf_model, rf_params)\n",
    "best_params_bayes, best_score_bayes = bayes_optimizer.optimize(X_train, y_train)\n",
    "print(\"Best Parameters:\", best_params_bayes)\n",
    "print(\"Best Score:\", best_score_bayes)"
   ]
  },
  {
   "cell_type": "code",
   "execution_count": 89,
   "metadata": {},
   "outputs": [],
   "source": [
    "rf_param_space = {\n",
    "    'n_estimators': scope.int(hp.quniform('n_estimators', 50, 500, 50)),\n",
    "    'max_depth': scope.int(hp.quniform('max_depth', 50, 500, 50))\n",
    "}"
   ]
  },
  {
   "cell_type": "code",
   "execution_count": 90,
   "metadata": {},
   "outputs": [
    {
     "name": "stdout",
     "output_type": "stream",
     "text": [
      "  0%|          | 0/50 [00:00<?, ?trial/s, best loss=?]"
     ]
    },
    {
     "name": "stdout",
     "output_type": "stream",
     "text": [
      "100%|██████████| 50/50 [02:38<00:00,  3.16s/trial, best loss: -0.9380844645550527]\n",
      "Best Parameters: {'max_depth': 400.0, 'n_estimators': 450.0}\n",
      "Best Score: 0.9380844645550527\n"
     ]
    }
   ],
   "source": [
    "hyperopt_optimizer = HyperoptOptimizer(rf_model, rf_param_space)\n",
    "best_params_hyperopt, best_score_hyperopt = hyperopt_optimizer.optimize(X_train, y_train)\n",
    "print(\"Best Parameters:\", best_params_hyperopt)\n",
    "print(\"Best Score:\", best_score_hyperopt)"
   ]
  },
  {
   "cell_type": "code",
   "execution_count": null,
   "metadata": {},
   "outputs": [],
   "source": []
  },
  {
   "cell_type": "markdown",
   "metadata": {},
   "source": [
    "## NAS"
   ]
  },
  {
   "cell_type": "code",
   "execution_count": 54,
   "metadata": {},
   "outputs": [
    {
     "name": "stdout",
     "output_type": "stream",
     "text": [
      "100%|██████████| 50/50 [01:11<00:00,  1.43s/trial, best loss: -0.9076923076923077]\n",
      "Best Architecture: {'dropout_rate': <hyperopt.pyll.base.Apply object at 0x3b02a4c40>, 'learning_rate': <hyperopt.pyll.base.Apply object at 0x3af8ca0d0>, 'num_layers': <hyperopt.pyll.base.Apply object at 0x3cb934c40>, 'num_nodes': <hyperopt.pyll.base.Apply object at 0x3cb934df0>}\n",
      "Best Score: 0.9076923076923077\n",
      "Best Accuracy: 0.9076923076923077\n"
     ]
    }
   ],
   "source": [
    "darts_optimizer = DARTSOptimizer(input_size=X_train.shape[1])\n",
    "best_architecture, best_score, best_accuracy = darts_optimizer.optimize(X_train, y_train, X_test, y_test)\n",
    "print(\"Best Architecture:\", best_architecture)\n",
    "print(\"Best Score:\", best_score)\n",
    "print(\"Best Accuracy:\", best_accuracy)"
   ]
  }
 ],
 "metadata": {
  "kernelspec": {
   "display_name": "Python 3",
   "language": "python",
   "name": "python3"
  },
  "language_info": {
   "codemirror_mode": {
    "name": "ipython",
    "version": 3
   },
   "file_extension": ".py",
   "mimetype": "text/x-python",
   "name": "python",
   "nbconvert_exporter": "python",
   "pygments_lexer": "ipython3",
   "version": "3.8.18"
  }
 },
 "nbformat": 4,
 "nbformat_minor": 2
}
