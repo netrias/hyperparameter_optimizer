{
 "cells": [
  {
   "cell_type": "code",
   "execution_count": 126,
   "metadata": {},
   "outputs": [],
   "source": [
    "# Input a string pathway to a pip requirements.txt file or a conda environment.yml file. \n",
    "# You can remove this variable or leave it blank to have nb2app attempt to determine the dependencies automatically.\n",
    "# Examples:\n",
    "# requirements_file = 'requirements.txt'\n",
    "# requirements_file = 'my/path/environment.yml'\n",
    "requirements_file: str = '/Users/christopherpuglisi/Netrias/Projects/hyperparameter_optimizer/src/environment.yml'\n",
    "# Input string pathways to any files that the notebook will need to function when it is\n",
    "# containerized. \n",
    "# You can delete/leave this empty if there are no external files to include. \n",
    "# Example:\n",
    "# my_resource_files ['/absolute/path/encoders/my_encoder.h5', '/absolute/path/decoders/my_decoder.h5']\n",
    "resource_files: list = [\n",
    "]\n",
    "from pathlib import Path\n",
    "data_path: Path = Path('/Users/christopherpuglisi/Netrias/Projects/hyperparameter_optimizer/tests/aethr_m_subset_aethr_features_overlapped_02102025.pkl')\n",
    "model_train_data_path: Path = Path('/Users/christopherpuglisi/Netrias/Projects/hyperparameter_optimizer/tests/cares_subset_aethr_features_overlapped_01312025.pkl')\n",
    "model_path: Path = Path('/Users/christopherpuglisi/Netrias/Projects/hyperparameter_optimizer/tests/best_model_LogisticClassifier_20250203_124517.pkl')"
   ]
  },
  {
   "cell_type": "code",
   "execution_count": 127,
   "metadata": {},
   "outputs": [],
   "source": [
    "import pickle\n",
    "import pandas as pd\n",
    "import numpy as np\n",
    "import joblib\n",
    "from sklearn.metrics import roc_auc_score, accuracy_score\n",
    "# Adjust the Python path to include the 'src' directory\n",
    "import sys\n",
    "import os\n",
    "import ast\n",
    "import warnings\n",
    "import datetime\n",
    "import json\n",
    "from scipy.stats import zscore\n",
    "warnings.filterwarnings(\"ignore\")\n",
    "src_path = os.path.abspath('../src')\n",
    "if src_path not in sys.path:\n",
    "    sys.path.append(src_path)\n",
    "from models.knn_models import KNNClassifierModel\n",
    "from optimizers.grid_search import GridSearchOptimizer\n",
    "from loss_functions.factory import LossFunctionFactory\n",
    "from models.bayesian_models import GaussianNBModel\n",
    "from optimizers.random_search import RandomSearchOptimizer\n",
    "from models.ensemble_models import RandomForestModel\n",
    "from models.linear_models import LogisticRegression\n",
    "from models.ensemble_models import RandomForestModel, GradientBoostingModel\n",
    "from models.bayesian_models import GaussianNBModel, BernoulliNBModel\n",
    "from models.knn_models import KNNClassifierModel\n",
    "from models.svm_models import SVCModel\n",
    "from models.bayesian_models import BayesianRidgeModel\n",
    "from models.linear_models import LogisticModel, RidgeModel, LassoModel\n",
    "from models.knn_models import KNNRegressorModel\n",
    "from models.svm_models import SVRModel\n",
    "from models.clustering_models import KMeansModel, DBSCANModel, AgglomerativeClusteringModel, SpectralClusteringModel\n",
    "from sklearn.model_selection import train_test_split\n"
   ]
  },
  {
   "cell_type": "code",
   "execution_count": 128,
   "metadata": {},
   "outputs": [],
   "source": [
    "model = joblib.load(model_path)"
   ]
  },
  {
   "cell_type": "code",
   "execution_count": 129,
   "metadata": {},
   "outputs": [],
   "source": [
    "with open(model_train_data_path, 'rb') as f:\n",
    "    model_train_data = pickle.load(f)\n",
    "#aethr['Threat'] = (aethr['Virus_meta_col'] == 'S2').astype(int)\n",
    "X_c = model_train_data.iloc[:,3:]"
   ]
  },
  {
   "cell_type": "code",
   "execution_count": 130,
   "metadata": {},
   "outputs": [],
   "source": [
    "features = (X_c.columns)"
   ]
  },
  {
   "cell_type": "code",
   "execution_count": 131,
   "metadata": {},
   "outputs": [],
   "source": [
    "with open(data_path, 'rb') as f:\n",
    "    aethr = pickle.load(f)\n",
    "#aethr['Threat'] = (aethr['Virus_meta_col'] == 'S2').astype(int)\n",
    "X = aethr.iloc[:,11:].fillna(0)\n",
    "y = aethr['Threat']"
   ]
  },
  {
   "cell_type": "code",
   "execution_count": 132,
   "metadata": {},
   "outputs": [],
   "source": [
    "X = X[X_c.columns]"
   ]
  },
  {
   "cell_type": "code",
   "execution_count": 133,
   "metadata": {},
   "outputs": [
    {
     "name": "stdout",
     "output_type": "stream",
     "text": [
      "Model AUC: 0.5411\n",
      "Model accuracy: 0.5701\n"
     ]
    }
   ],
   "source": [
    "y_pred = model.predict(X)\n",
    "\n",
    "# Calculate accuracy\n",
    "AUC = roc_auc_score(y, y_pred)\n",
    "\n",
    "# Return accuracy\n",
    "print(f\"Model AUC: {AUC:.4f}\")\n",
    "\n",
    "accuracy = accuracy_score(y, y_pred)\n",
    "\n",
    "# Return accuracy\n",
    "print(f\"Model accuracy: {accuracy:.4f}\")"
   ]
  }
 ],
 "metadata": {
  "kernelspec": {
   "display_name": "hyperparam",
   "language": "python",
   "name": "python3"
  },
  "language_info": {
   "codemirror_mode": {
    "name": "ipython",
    "version": 3
   },
   "file_extension": ".py",
   "mimetype": "text/x-python",
   "name": "python",
   "nbconvert_exporter": "python",
   "pygments_lexer": "ipython3",
   "version": "3.8.18"
  }
 },
 "nbformat": 4,
 "nbformat_minor": 2
}
